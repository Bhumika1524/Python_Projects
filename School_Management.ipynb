{
  "nbformat": 4,
  "nbformat_minor": 0,
  "metadata": {
    "colab": {
      "name": "School_Management.ipynb",
      "provenance": [],
      "collapsed_sections": [],
      "authorship_tag": "ABX9TyOiTVHeEH0QDGE5n4u5k4dx",
      "include_colab_link": true
    },
    "kernelspec": {
      "name": "python3",
      "display_name": "Python 3"
    }
  },
  "cells": [
    {
      "cell_type": "markdown",
      "metadata": {
        "id": "view-in-github",
        "colab_type": "text"
      },
      "source": [
        "<a href=\"https://colab.research.google.com/github/Bhumika1524/Python_Projects/blob/main/School_Management.ipynb\" target=\"_parent\"><img src=\"https://colab.research.google.com/assets/colab-badge.svg\" alt=\"Open In Colab\"/></a>"
      ]
    },
    {
      "cell_type": "code",
      "metadata": {
        "colab": {
          "base_uri": "https://localhost:8080/"
        },
        "id": "FEG7OClJ9WIG",
        "outputId": "7de8e3a0-6708-44bd-b7aa-d5f13a42687b"
      },
      "source": [
        "import csv\r\n",
        "\r\n",
        "def write_csv(info_list):\r\n",
        "    with open('student_info.csv', 'a', newline='') as csv_file:\r\n",
        "        writer = csv.writer(csv_file)\r\n",
        "\r\n",
        "        if csv_file.tell() == 0:\r\n",
        "          writer.writerow([\"Name\", \"Age\", \"Contact Number\", \"E-Mail ID\"])\r\n",
        "        \r\n",
        "        writer.writerow(info_list)\r\n",
        "if __name__ == '__main__':\r\n",
        "  condition = True\r\n",
        "  student_num = 1\r\n",
        "\r\n",
        "  while(condition):\r\n",
        "      student_info = input(\"Enter student information for student #{} in the following format (Name Age Contact_Number E-mail): \".format(student_num))\r\n",
        "      print(\"Entered information: \" + student_info)\r\n",
        "\r\n",
        "      #split\r\n",
        "      student_info_list = student_info.split(' ')\r\n",
        "\r\n",
        "      print(\"The Entered informtion is: -\\nName: {}\\nAge: {}\\nContact Number: {}\\nE-Mail ID: {}\"\r\n",
        "      .format(student_info_list[0], student_info_list[1], student_info_list[2], student_info_list[3]) )\r\n",
        "\r\n",
        "      choice_check = input(\"Is the entered information correct? (yes/no): \")\r\n",
        "      if choice_check ==\"yes\":\r\n",
        "        write_csv(student_info_list)\r\n",
        "\r\n",
        "        condition_check = input(\"Enter yes/no if you want to enter information for another student: \")\r\n",
        "        if condition_check == \"yes\":\r\n",
        "            condition = True\r\n",
        "            student_num = student_num + 1\r\n",
        "        elif condition_check == \"no\":\r\n",
        "            condition = False\r\n",
        "      elif choice_check == \"no\":\r\n",
        "        print(\"\\n Please reenter the values!\")\r\n"
      ],
      "execution_count": null,
      "outputs": [
        {
          "output_type": "stream",
          "text": [
            "Enter student information for student #1 in the following format (Name Age Contact_Number E-mail): Bhumi 20 9138111006 bhumi@gmail.com\n",
            "Entered information: Bhumi 20 9138111006 bhumi@gmail.com\n",
            "The Entered informtion is: -\n",
            "Name: Bhumi\n",
            "Age: 20\n",
            "Contact Number: 9138111006\n",
            "E-Mail ID: bhumi@gmail.com\n",
            "Is the entered information correct? (yes/no): yes\n",
            "Enter yes/no if you want to enter information for another student: yes\n",
            "Enter student information for student #2 in the following format (Name Age Contact_Number E-mail): bhart 21 9138273 bharat@gmail.com\n",
            "Entered information: bhart 21 9138273 bharat@gmail.com\n",
            "The Entered informtion is: -\n",
            "Name: bhart\n",
            "Age: 21\n",
            "Contact Number: 9138273\n",
            "E-Mail ID: bharat@gmail.com\n",
            "Is the entered information correct? (yes/no): no\n",
            "\n",
            " Please reenter the values!\n",
            "Enter student information for student #2 in the following format (Name Age Contact_Number E-mail): bharat 21 9138273 bharat@gmail.com\n",
            "Entered information: bharat 21 9138273 bharat@gmail.com\n",
            "The Entered informtion is: -\n",
            "Name: bharat\n",
            "Age: 21\n",
            "Contact Number: 9138273\n",
            "E-Mail ID: bharat@gmail.com\n",
            "Is the entered information correct? (yes/no): yes\n",
            "Enter yes/no if you want to enter information for another student: no\n"
          ],
          "name": "stdout"
        }
      ]
    }
  ]
}